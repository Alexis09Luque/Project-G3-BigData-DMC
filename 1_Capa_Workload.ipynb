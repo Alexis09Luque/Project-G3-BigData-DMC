{
  "nbformat": 4,
  "nbformat_minor": 0,
  "metadata": {
    "colab": {
      "name": "1. Capa-Workload.ipynb",
      "provenance": [],
      "collapsed_sections": []
    },
    "kernelspec": {
      "name": "python3",
      "display_name": "Python 3"
    },
    "language_info": {
      "name": "python"
    }
  },
  "cells": [
    {
      "cell_type": "code",
      "source": [
        "from google.colab import drive\n",
        "drive.mount('/content/drive')"
      ],
      "metadata": {
        "colab": {
          "base_uri": "https://localhost:8080/"
        },
        "id": "GWMiYDbWn40p",
        "outputId": "87aed63e-5543-48ac-8834-e3e21fa81d4d"
      },
      "execution_count": null,
      "outputs": [
        {
          "output_type": "stream",
          "name": "stdout",
          "text": [
            "Mounted at /content/drive\n"
          ]
        }
      ]
    },
    {
      "cell_type": "code",
      "execution_count": null,
      "metadata": {
        "id": "30HDy_Hxj0dl"
      },
      "outputs": [],
      "source": [
        "import os\n",
        "from pprint import pprint\n",
        "from google.cloud import storage\n",
        "\n",
        "os.environ['GOOGLE_APPLICATION_CREDENTIALS'] = r'/content/drive/MyDrive/DMC_Grupo_3/Scripts/data/hale-skill-343800-07b8d2b6d0be.json'\n",
        "\n",
        "storage_client = storage.Client()"
      ]
    },
    {
      "cell_type": "code",
      "source": [
        "def create_bucket(bucket_name,storage_client): \n",
        "  '''\n",
        "  Upload file to a bucket\n",
        "  : bucket_name (str) - Nombre de bucket a crear\n",
        "  : storage_cliente  - El storage cliente que nos permite interactuar con Google Storage\n",
        "  '''\n",
        "  for bucket in storage_client.list_buckets(max_results=100):\n",
        "    if bucket_name == bucket.id:\n",
        "      return \"Bucket \" + bucket_name + \" ya existe\"  \n",
        "\n",
        "  # create a new bucket\n",
        "  bucket = storage_client.bucket(bucket_name)\n",
        "  bucket.storage_class = 'STANDARD' # Archive | Nearline | Standard https://cloud.google.com/storage/docs/storage-classes\n",
        "  bucket.location = 'US' # https://cloud.google.com/storage/docs/locations\n",
        "  bucket = storage_client.create_bucket(bucket) # returns Bucket object\n",
        "\n",
        "  pprint(vars(bucket))\n",
        "\n",
        "  bucket.name\n",
        "  bucket._properties['selfLink']\n",
        "  bucket._properties['id']\n",
        "  bucket._properties['location']\n",
        "  bucket._properties['timeCreated']\n",
        "  bucket._properties['storageClass']\n",
        "  bucket._properties['timeCreated']\n",
        "  bucket._properties['updated']\n",
        "  "
      ],
      "metadata": {
        "id": "YVLvebP-c6Tl"
      },
      "execution_count": 15,
      "outputs": []
    },
    {
      "cell_type": "code",
      "source": [
        "bucket_name = 'esp-bigdata-grupo3'\n",
        "create_bucket(bucket_name,storage_client)"
      ],
      "metadata": {
        "id": "ub0ckRqCo5EN",
        "colab": {
          "base_uri": "https://localhost:8080/",
          "height": 35
        },
        "outputId": "362cf698-9cc3-4097-9372-6d987bbc6fee"
      },
      "execution_count": 13,
      "outputs": [
        {
          "output_type": "execute_result",
          "data": {
            "text/plain": [
              "'Bucket esp-bigdata-grupo3ya existe'"
            ],
            "application/vnd.google.colaboratory.intrinsic+json": {
              "type": "string"
            }
          },
          "metadata": {},
          "execution_count": 13
        }
      ]
    },
    {
      "cell_type": "markdown",
      "source": [
        "Carga de archivo Bancos"
      ],
      "metadata": {
        "id": "u01CXG_VsKGz"
      }
    },
    {
      "cell_type": "code",
      "source": [
        "# lineas de codigo que se conectan al motor de base\n",
        "\"\"\"\n",
        "Upload File\n",
        "\"\"\"\n",
        "def upload_to_bucket(blob_name, file_path, bucket_name):\n",
        "    '''\n",
        "    Upload file to a bucket\n",
        "    : blob_name  (str) - object name, La ruta donde se almacena el archivo en gcp\n",
        "    : file_path (str) - La ruta local donde se encuentra el archivo a subir\n",
        "    : bucket_name (str) \n",
        "    '''\n",
        "    bucket = storage_client.get_bucket(bucket_name)\n",
        "    blob = bucket.blob(blob_name)\n",
        "    blob.upload_from_filename(file_path)\n",
        "    return blob\n",
        "\n",
        "\n"
      ],
      "metadata": {
        "id": "YkHAzVu_K0uh"
      },
      "execution_count": null,
      "outputs": []
    },
    {
      "cell_type": "markdown",
      "source": [
        "**Carga de archivo Bancos a la capa Workload**"
      ],
      "metadata": {
        "id": "4ROuLPCHYjyF"
      }
    },
    {
      "cell_type": "code",
      "source": [
        "bucket_name = 'esp-bigdata-grupo3'\n",
        "ruta_remota = 'Datalake/Workload/Grupo3/Bancos.csv'\n",
        "response = upload_to_bucket('Datalake/Workload/Grupo3/Bancos.csv', '/content/drive/MyDrive/DMC_Grupo_3/Scripts/data/Bancos.csv', bucket_name)"
      ],
      "metadata": {
        "id": "iBYI1PsqMnc_"
      },
      "execution_count": null,
      "outputs": []
    },
    {
      "cell_type": "markdown",
      "source": [
        "**Carga de archivo Comercios a la capa Workload**\n",
        "\n"
      ],
      "metadata": {
        "id": "TdDeVHGWYzYW"
      }
    },
    {
      "cell_type": "code",
      "source": [
        "bucket_name = 'esp-bigdata-grupo3'\n",
        "ruta_remota = 'Datalake/Workload/Grupo3/Comercios.csv'\n",
        "response = upload_to_bucket(ruta_remota, '/content/drive/MyDrive/DMC_Grupo_3/Scripts/data/Comercios.csv', bucket_name)"
      ],
      "metadata": {
        "id": "NSHn-C-vQLvj"
      },
      "execution_count": null,
      "outputs": []
    },
    {
      "cell_type": "markdown",
      "source": [
        "**Carga de archivo Contracargos a la capa Workload**"
      ],
      "metadata": {
        "id": "rGBh9G36ZC9R"
      }
    },
    {
      "cell_type": "code",
      "source": [
        "bucket_name = 'esp-bigdata-grupo3'\n",
        "ruta_remota = 'Datalake/Workload/Grupo3/Contracargos.csv'\n",
        "response = upload_to_bucket(ruta_remota, '/content/drive/MyDrive/DMC_Grupo_3/Scripts/data/Contracargos.csv', bucket_name)"
      ],
      "metadata": {
        "id": "pjDiDYfZQQji"
      },
      "execution_count": null,
      "outputs": []
    }
  ]
}